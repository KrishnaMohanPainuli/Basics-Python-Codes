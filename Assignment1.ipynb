{
 "cells": [
  {
   "cell_type": "markdown",
   "metadata": {},
   "source": [
    "# 1. Write a program which will find all such numbers which are divisible by 7 but are not a multiple of 5, between 2000 and 3200 (both included). The numbers obtained should be printed in a comma-separated sequence on a single line."
   ]
  },
  {
   "cell_type": "code",
   "execution_count": 8,
   "metadata": {},
   "outputs": [
    {
     "name": "stdout",
     "output_type": "stream",
     "text": [
      "2002 is divisible by 7 but not a multiple of 5\n",
      "2009 is divisible by 7 but not a multiple of 5\n",
      "2016 is divisible by 7 but not a multiple of 5\n",
      "2023 is divisible by 7 but not a multiple of 5\n",
      "2037 is divisible by 7 but not a multiple of 5\n",
      "2044 is divisible by 7 but not a multiple of 5\n",
      "2051 is divisible by 7 but not a multiple of 5\n",
      "2058 is divisible by 7 but not a multiple of 5\n",
      "2072 is divisible by 7 but not a multiple of 5\n",
      "2079 is divisible by 7 but not a multiple of 5\n",
      "2086 is divisible by 7 but not a multiple of 5\n",
      "2093 is divisible by 7 but not a multiple of 5\n",
      "2107 is divisible by 7 but not a multiple of 5\n",
      "2114 is divisible by 7 but not a multiple of 5\n",
      "2121 is divisible by 7 but not a multiple of 5\n",
      "2128 is divisible by 7 but not a multiple of 5\n",
      "2142 is divisible by 7 but not a multiple of 5\n",
      "2149 is divisible by 7 but not a multiple of 5\n",
      "2156 is divisible by 7 but not a multiple of 5\n",
      "2163 is divisible by 7 but not a multiple of 5\n",
      "2177 is divisible by 7 but not a multiple of 5\n",
      "2184 is divisible by 7 but not a multiple of 5\n",
      "2191 is divisible by 7 but not a multiple of 5\n",
      "2198 is divisible by 7 but not a multiple of 5\n",
      "2212 is divisible by 7 but not a multiple of 5\n",
      "2219 is divisible by 7 but not a multiple of 5\n",
      "2226 is divisible by 7 but not a multiple of 5\n",
      "2233 is divisible by 7 but not a multiple of 5\n",
      "2247 is divisible by 7 but not a multiple of 5\n",
      "2254 is divisible by 7 but not a multiple of 5\n",
      "2261 is divisible by 7 but not a multiple of 5\n",
      "2268 is divisible by 7 but not a multiple of 5\n",
      "2282 is divisible by 7 but not a multiple of 5\n",
      "2289 is divisible by 7 but not a multiple of 5\n",
      "2296 is divisible by 7 but not a multiple of 5\n",
      "2303 is divisible by 7 but not a multiple of 5\n",
      "2317 is divisible by 7 but not a multiple of 5\n",
      "2324 is divisible by 7 but not a multiple of 5\n",
      "2331 is divisible by 7 but not a multiple of 5\n",
      "2338 is divisible by 7 but not a multiple of 5\n",
      "2352 is divisible by 7 but not a multiple of 5\n",
      "2359 is divisible by 7 but not a multiple of 5\n",
      "2366 is divisible by 7 but not a multiple of 5\n",
      "2373 is divisible by 7 but not a multiple of 5\n",
      "2387 is divisible by 7 but not a multiple of 5\n",
      "2394 is divisible by 7 but not a multiple of 5\n",
      "2401 is divisible by 7 but not a multiple of 5\n",
      "2408 is divisible by 7 but not a multiple of 5\n",
      "2422 is divisible by 7 but not a multiple of 5\n",
      "2429 is divisible by 7 but not a multiple of 5\n",
      "2436 is divisible by 7 but not a multiple of 5\n",
      "2443 is divisible by 7 but not a multiple of 5\n",
      "2457 is divisible by 7 but not a multiple of 5\n",
      "2464 is divisible by 7 but not a multiple of 5\n",
      "2471 is divisible by 7 but not a multiple of 5\n",
      "2478 is divisible by 7 but not a multiple of 5\n",
      "2492 is divisible by 7 but not a multiple of 5\n",
      "2499 is divisible by 7 but not a multiple of 5\n",
      "2506 is divisible by 7 but not a multiple of 5\n",
      "2513 is divisible by 7 but not a multiple of 5\n",
      "2527 is divisible by 7 but not a multiple of 5\n",
      "2534 is divisible by 7 but not a multiple of 5\n",
      "2541 is divisible by 7 but not a multiple of 5\n",
      "2548 is divisible by 7 but not a multiple of 5\n",
      "2562 is divisible by 7 but not a multiple of 5\n",
      "2569 is divisible by 7 but not a multiple of 5\n",
      "2576 is divisible by 7 but not a multiple of 5\n",
      "2583 is divisible by 7 but not a multiple of 5\n",
      "2597 is divisible by 7 but not a multiple of 5\n",
      "2604 is divisible by 7 but not a multiple of 5\n",
      "2611 is divisible by 7 but not a multiple of 5\n",
      "2618 is divisible by 7 but not a multiple of 5\n",
      "2632 is divisible by 7 but not a multiple of 5\n",
      "2639 is divisible by 7 but not a multiple of 5\n",
      "2646 is divisible by 7 but not a multiple of 5\n",
      "2653 is divisible by 7 but not a multiple of 5\n",
      "2667 is divisible by 7 but not a multiple of 5\n",
      "2674 is divisible by 7 but not a multiple of 5\n",
      "2681 is divisible by 7 but not a multiple of 5\n",
      "2688 is divisible by 7 but not a multiple of 5\n",
      "2702 is divisible by 7 but not a multiple of 5\n",
      "2709 is divisible by 7 but not a multiple of 5\n",
      "2716 is divisible by 7 but not a multiple of 5\n",
      "2723 is divisible by 7 but not a multiple of 5\n",
      "2737 is divisible by 7 but not a multiple of 5\n",
      "2744 is divisible by 7 but not a multiple of 5\n",
      "2751 is divisible by 7 but not a multiple of 5\n",
      "2758 is divisible by 7 but not a multiple of 5\n",
      "2772 is divisible by 7 but not a multiple of 5\n",
      "2779 is divisible by 7 but not a multiple of 5\n",
      "2786 is divisible by 7 but not a multiple of 5\n",
      "2793 is divisible by 7 but not a multiple of 5\n",
      "2807 is divisible by 7 but not a multiple of 5\n",
      "2814 is divisible by 7 but not a multiple of 5\n",
      "2821 is divisible by 7 but not a multiple of 5\n",
      "2828 is divisible by 7 but not a multiple of 5\n",
      "2842 is divisible by 7 but not a multiple of 5\n",
      "2849 is divisible by 7 but not a multiple of 5\n",
      "2856 is divisible by 7 but not a multiple of 5\n",
      "2863 is divisible by 7 but not a multiple of 5\n",
      "2877 is divisible by 7 but not a multiple of 5\n",
      "2884 is divisible by 7 but not a multiple of 5\n",
      "2891 is divisible by 7 but not a multiple of 5\n",
      "2898 is divisible by 7 but not a multiple of 5\n",
      "2912 is divisible by 7 but not a multiple of 5\n",
      "2919 is divisible by 7 but not a multiple of 5\n",
      "2926 is divisible by 7 but not a multiple of 5\n",
      "2933 is divisible by 7 but not a multiple of 5\n",
      "2947 is divisible by 7 but not a multiple of 5\n",
      "2954 is divisible by 7 but not a multiple of 5\n",
      "2961 is divisible by 7 but not a multiple of 5\n",
      "2968 is divisible by 7 but not a multiple of 5\n",
      "2982 is divisible by 7 but not a multiple of 5\n",
      "2989 is divisible by 7 but not a multiple of 5\n",
      "2996 is divisible by 7 but not a multiple of 5\n",
      "3003 is divisible by 7 but not a multiple of 5\n",
      "3017 is divisible by 7 but not a multiple of 5\n",
      "3024 is divisible by 7 but not a multiple of 5\n",
      "3031 is divisible by 7 but not a multiple of 5\n",
      "3038 is divisible by 7 but not a multiple of 5\n",
      "3052 is divisible by 7 but not a multiple of 5\n",
      "3059 is divisible by 7 but not a multiple of 5\n",
      "3066 is divisible by 7 but not a multiple of 5\n",
      "3073 is divisible by 7 but not a multiple of 5\n",
      "3087 is divisible by 7 but not a multiple of 5\n",
      "3094 is divisible by 7 but not a multiple of 5\n",
      "3101 is divisible by 7 but not a multiple of 5\n",
      "3108 is divisible by 7 but not a multiple of 5\n",
      "3122 is divisible by 7 but not a multiple of 5\n",
      "3129 is divisible by 7 but not a multiple of 5\n",
      "3136 is divisible by 7 but not a multiple of 5\n",
      "3143 is divisible by 7 but not a multiple of 5\n",
      "3157 is divisible by 7 but not a multiple of 5\n",
      "3164 is divisible by 7 but not a multiple of 5\n",
      "3171 is divisible by 7 but not a multiple of 5\n",
      "3178 is divisible by 7 but not a multiple of 5\n",
      "3192 is divisible by 7 but not a multiple of 5\n",
      "3199 is divisible by 7 but not a multiple of 5\n"
     ]
    }
   ],
   "source": [
    "n = 2000\n",
    "m = 3200\n",
    "for i in range(n,m+1,1):\n",
    "    if i%5 != 0:\n",
    "        if i%7 ==0:\n",
    "            print(i, \"is divisible by 7 but not a multiple of 5\")\n"
   ]
  },
  {
   "cell_type": "markdown",
   "metadata": {},
   "source": [
    "# 2. Write a Python program to accept the user's first and last name and then getting them printed in the the reverse order with a space between first name and last name."
   ]
  },
  {
   "cell_type": "code",
   "execution_count": 14,
   "metadata": {},
   "outputs": [
    {
     "name": "stdout",
     "output_type": "stream",
     "text": [
      "Enter First Name:==Krishna Mohan\n",
      "Enter Last Name: ==Painuli\n",
      "user name is:=  Painuli Krishna Mohan\n"
     ]
    }
   ],
   "source": [
    "n = input(\"Enter First Name:==\")\n",
    "m = input(\"Enter Last Name: ==\")\n",
    "print(\"user name is:= \", m+\" \"+ n)"
   ]
  },
  {
   "cell_type": "markdown",
   "metadata": {},
   "source": [
    "# 3. Write a Python program to find the volume of a sphere with diameter 12 cm. Formula: V=4/3 * π * r^3\n"
   ]
  },
  {
   "cell_type": "code",
   "execution_count": 25,
   "metadata": {},
   "outputs": [
    {
     "name": "stdout",
     "output_type": "stream",
     "text": [
      "7238.016\n"
     ]
    }
   ],
   "source": [
    "pi = 3.1415\n",
    "r = 12\n",
    "vol_of_sphere = ((4*pi*12*12*12)/3)\n",
    "print(vol_of_sphere)"
   ]
  },
  {
   "cell_type": "markdown",
   "metadata": {},
   "source": [
    "# Thank You!"
   ]
  },
  {
   "cell_type": "code",
   "execution_count": null,
   "metadata": {},
   "outputs": [],
   "source": []
  }
 ],
 "metadata": {
  "kernelspec": {
   "display_name": "Python 3",
   "language": "python",
   "name": "python3"
  },
  "language_info": {
   "codemirror_mode": {
    "name": "ipython",
    "version": 3
   },
   "file_extension": ".py",
   "mimetype": "text/x-python",
   "name": "python",
   "nbconvert_exporter": "python",
   "pygments_lexer": "ipython3",
   "version": "3.7.4"
  }
 },
 "nbformat": 4,
 "nbformat_minor": 2
}
