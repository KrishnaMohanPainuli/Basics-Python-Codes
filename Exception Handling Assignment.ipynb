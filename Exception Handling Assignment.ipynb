{
 "cells": [
  {
   "cell_type": "markdown",
   "id": "627dacea",
   "metadata": {},
   "source": [
    "# Write a function to compute 5/0 and use try/except to catch the exceptions."
   ]
  },
  {
   "cell_type": "code",
   "execution_count": 9,
   "id": "06a15168",
   "metadata": {},
   "outputs": [],
   "source": [
    "def Exception():\n",
    "    try:\n",
    "        x = 5/0\n",
    "        \n",
    "    except ZeroDivisionError:\n",
    "        return \"Division by zero gives infinity plz correct your condition in try Area\"\n",
    "        "
   ]
  },
  {
   "cell_type": "code",
   "execution_count": 10,
   "id": "a6970ac7",
   "metadata": {},
   "outputs": [
    {
     "data": {
      "text/plain": [
       "'Division by zero gives infinity plz correct your condition in try Area'"
      ]
     },
     "execution_count": 10,
     "metadata": {},
     "output_type": "execute_result"
    }
   ],
   "source": [
    "Exception()"
   ]
  },
  {
   "cell_type": "markdown",
   "id": "3e6ff71e",
   "metadata": {},
   "source": [
    "# Implement a Python program to generate all sentences where subject is in [\"Americans\", \"Indians\"] and verb is in [\"Play\", \"watch\"] and the object is in [\"Baseball\",\"cricket\"].\n"
   ]
  },
  {
   "cell_type": "markdown",
   "id": "620e77b8",
   "metadata": {},
   "source": [
    "# Hint: Subject,Verb and Object should be declared in the program as shown below.\n",
    "subjects=[\"Americans\",\"Indians\"]\n",
    "\n",
    "verbs=[\"play\",\"watch\"]\n",
    "\n",
    "objects=[\"Baseball\",\"Cricket\"]\n",
    "\n",
    "Output should come as below:\n",
    "Americans play Baseball.\n",
    "\n",
    "Americans play Cricket.\n",
    "\n",
    "Americans watch Baseball.\n",
    "\n",
    "Americans watch Cricket.\n",
    "\n",
    "Indians play Baseball.\n",
    "\n",
    "Indians play Cricket.\n",
    "\n",
    "Indians watch Baseball.\n",
    "\n",
    "Indians watch Cricket."
   ]
  },
  {
   "cell_type": "code",
   "execution_count": 11,
   "id": "725bb64c",
   "metadata": {},
   "outputs": [],
   "source": [
    "subjects = [\"Americans\",\"Indians\"]\n",
    "verbs = [\"play\",\"watch\"]\n",
    "objects = [\"Baseball\",\"Cricket\"]\n",
    "\n",
    "sentence = [s + \" \" + v + \" \" + o for s in subjects for v in verbs for o in objects]"
   ]
  },
  {
   "cell_type": "code",
   "execution_count": 12,
   "id": "922a58c6",
   "metadata": {},
   "outputs": [
    {
     "name": "stdout",
     "output_type": "stream",
     "text": [
      "Americans play Baseball\n",
      "Americans play Cricket\n",
      "Americans watch Baseball\n",
      "Americans watch Cricket\n",
      "Indians play Baseball\n",
      "Indians play Cricket\n",
      "Indians watch Baseball\n",
      "Indians watch Cricket\n"
     ]
    }
   ],
   "source": [
    "for i in sentence:\n",
    "    print(i)"
   ]
  },
  {
   "cell_type": "code",
   "execution_count": null,
   "id": "57419f07",
   "metadata": {},
   "outputs": [],
   "source": []
  }
 ],
 "metadata": {
  "kernelspec": {
   "display_name": "Python 3",
   "language": "python",
   "name": "python3"
  },
  "language_info": {
   "codemirror_mode": {
    "name": "ipython",
    "version": 3
   },
   "file_extension": ".py",
   "mimetype": "text/x-python",
   "name": "python",
   "nbconvert_exporter": "python",
   "pygments_lexer": "ipython3",
   "version": "3.8.8"
  }
 },
 "nbformat": 4,
 "nbformat_minor": 5
}
