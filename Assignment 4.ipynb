{
 "cells": [
  {
   "cell_type": "markdown",
   "id": "c0fd6533",
   "metadata": {},
   "source": [
    "# Write a Python Program(with class concepts) to find the area of the triangle using the below formula.\n"
   ]
  },
  {
   "cell_type": "markdown",
   "id": "16c62533",
   "metadata": {},
   "source": [
    "# area = (s*(s-a)*(s-b)*(s-c)) ** 0.5  "
   ]
  },
  {
   "cell_type": "markdown",
   "id": "b7097f88",
   "metadata": {},
   "source": [
    "# Function to take the length of the sides of triangle from user should be defined in the parent class and function to calculate the area should be defined in subclass "
   ]
  },
  {
   "cell_type": "code",
   "execution_count": 4,
   "id": "a7086299",
   "metadata": {},
   "outputs": [],
   "source": [
    "class Traingle:\n",
    "    def __init__(self):\n",
    "        self.a = float(input(\"Enter side of a : \"))\n",
    "        self.b = float(input(\"Enter side of b : \"))\n",
    "        self.c = float(input(\"Enter side of c : \"))\n",
    "        \n",
    "        "
   ]
  },
  {
   "cell_type": "code",
   "execution_count": 8,
   "id": "f80c1061",
   "metadata": {},
   "outputs": [],
   "source": [
    "class Area(Traingle):\n",
    "    def area(self):\n",
    "        s = (self.a + self.b + self.c)/2\n",
    "        area = (s* (s-self.a) * (s-self.b) * (s-self.c)) ** 0.5\n",
    "        print(\"Area of Traingle is :\", area ,\"cm\\u00b2\")\n",
    "        \n",
    "        "
   ]
  },
  {
   "cell_type": "code",
   "execution_count": 10,
   "id": "7c361936",
   "metadata": {},
   "outputs": [
    {
     "name": "stdout",
     "output_type": "stream",
     "text": [
      "Enter side of a : 7\n",
      "Enter side of b : 4\n",
      "Enter side of c : 6\n",
      "Area of Traingle is : 11.976539567003485 cm²\n"
     ]
    }
   ],
   "source": [
    "a = Area()\n",
    "a.area()\n"
   ]
  },
  {
   "cell_type": "markdown",
   "id": "d40240a5",
   "metadata": {},
   "source": [
    "# Write a function filter_long_words() that takes a list of words and an integer n and returns the list of words that are longer than n."
   ]
  },
  {
   "cell_type": "code",
   "execution_count": 11,
   "id": "1fca85bb",
   "metadata": {},
   "outputs": [],
   "source": [
    "def filter_long_words(words, n):\n",
    "    l = list()\n",
    "    for i in words:\n",
    "        if len(i) > n:\n",
    "            l.append(i)\n",
    "    print(f\"Longest words are: {l}\")"
   ]
  },
  {
   "cell_type": "code",
   "execution_count": 12,
   "id": "85503aca",
   "metadata": {},
   "outputs": [
    {
     "name": "stdout",
     "output_type": "stream",
     "text": [
      "Longest words are: ['computer science', 'data science', 'computer']\n"
     ]
    }
   ],
   "source": [
    "lst = [\"hello\", \"world\", \"name\", \"words\", \"computer science\", \"data science\", \"computer\"]\n",
    "filter_long_words(lst, 5)"
   ]
  },
  {
   "cell_type": "markdown",
   "id": "e46f0b4a",
   "metadata": {},
   "source": [
    "# Write a Python program using function concept that maps list of words into a list of integers representing the lengths of the corresponding words.\n",
    "Hint: If a list [ ab,cde,erty] is passed on to the python function output should come as [2,3,4] Here 2,3 and 4 are the lengths of the words in the list."
   ]
  },
  {
   "cell_type": "code",
   "execution_count": 13,
   "id": "659579b8",
   "metadata": {},
   "outputs": [],
   "source": [
    "def word_len(words):\n",
    "    return len(words)"
   ]
  },
  {
   "cell_type": "code",
   "execution_count": 14,
   "id": "fcc10e39",
   "metadata": {},
   "outputs": [],
   "source": [
    "l = ['ab', 'cde', 'erty']\n",
    "result = map(word_len,l)"
   ]
  },
  {
   "cell_type": "code",
   "execution_count": 17,
   "id": "611cd629",
   "metadata": {},
   "outputs": [
    {
     "data": {
      "text/plain": [
       "[2, 3, 4]"
      ]
     },
     "execution_count": 17,
     "metadata": {},
     "output_type": "execute_result"
    }
   ],
   "source": [
    "list(result)"
   ]
  },
  {
   "cell_type": "markdown",
   "id": "0314973a",
   "metadata": {},
   "source": [
    "# Write a Python function which takes a character (i.e. a string of length 1) and returns True if it is a vowel, False otherwise. "
   ]
  },
  {
   "cell_type": "code",
   "execution_count": 20,
   "id": "ca608b79",
   "metadata": {},
   "outputs": [],
   "source": [
    "def vowel_check(char):\n",
    "    if (char == \"a\" or char == \"e\" or char == \"i\" or char == \"o\" or char == \"u\"):\n",
    "        \n",
    "        return True\n",
    "    else:\n",
    "        return False\n",
    "    "
   ]
  },
  {
   "cell_type": "code",
   "execution_count": 23,
   "id": "c075bb32",
   "metadata": {},
   "outputs": [
    {
     "name": "stdout",
     "output_type": "stream",
     "text": [
      "Enter a Character:== t\n"
     ]
    },
    {
     "data": {
      "text/plain": [
       "False"
      ]
     },
     "execution_count": 23,
     "metadata": {},
     "output_type": "execute_result"
    }
   ],
   "source": [
    "vowel_check(input(\"Enter a Character:== \"))"
   ]
  },
  {
   "cell_type": "code",
   "execution_count": null,
   "id": "59e3ac7c",
   "metadata": {},
   "outputs": [],
   "source": []
  }
 ],
 "metadata": {
  "kernelspec": {
   "display_name": "Python 3",
   "language": "python",
   "name": "python3"
  },
  "language_info": {
   "codemirror_mode": {
    "name": "ipython",
    "version": 3
   },
   "file_extension": ".py",
   "mimetype": "text/x-python",
   "name": "python",
   "nbconvert_exporter": "python",
   "pygments_lexer": "ipython3",
   "version": "3.8.8"
  }
 },
 "nbformat": 4,
 "nbformat_minor": 5
}
